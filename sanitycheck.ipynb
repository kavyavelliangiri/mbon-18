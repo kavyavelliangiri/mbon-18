{
 "cells": [
  {
   "cell_type": "code",
   "execution_count": 3,
   "id": "7ff4f8bb",
   "metadata": {},
   "outputs": [],
   "source": [
    "import os\n",
    "if 'DISPLAY' in os.environ:\n",
    "    del os.environ['DISPLAY']\n",
    "import sys\n",
    "sys.path.insert(0, '/usr/local/nrn/lib/python/')"
   ]
  },
  {
   "cell_type": "code",
   "execution_count": 4,
   "id": "8a59af06",
   "metadata": {},
   "outputs": [],
   "source": [
    "# import libraries\n",
    "from neuron import h, gui\n",
    "import matplotlib.pyplot as plt\n"
   ]
  },
  {
   "cell_type": "code",
   "execution_count": 5,
   "id": "350514ab",
   "metadata": {},
   "outputs": [
    {
     "name": "stdout",
     "output_type": "stream",
     "text": [
      "\n",
      "|-|       soma(0-1)\n",
      "\n",
      "soma { nseg=1  L=100  Ra=35.4\n",
      "\t/*location 0 attached to cell 0*/\n",
      "\t/* First segment only */\n",
      "\tinsert morphology { diam=500}\n",
      "\tinsert capacitance { cm=1}\n",
      "}\n"
     ]
    }
   ],
   "source": [
    "# construct the soma\n",
    "soma = h.Section(name = 'soma')\n",
    "\n",
    "h.topology()\n",
    "h.psection()\n",
    "\n",
    "soma.L = 20\n",
    "soma.diam = 20"
   ]
  },
  {
   "cell_type": "code",
   "execution_count": 6,
   "id": "f63a75e3",
   "metadata": {},
   "outputs": [
    {
     "data": {
      "text/plain": [
       "soma"
      ]
     },
     "execution_count": 6,
     "metadata": {},
     "output_type": "execute_result"
    }
   ],
   "source": [
    "#probe the soma, include biophysical mechs\n",
    "dir(soma)\n",
    "\n",
    "soma.insert(\"hh\")\n",
    "## maybe hodgkin-huxley biphys mech could be placed near the proximal neurite and see if the agreement correlates with \n",
    "## experimental data? \n",
    "## proximal neurite --?? "
   ]
  },
  {
   "cell_type": "code",
   "execution_count": 7,
   "id": "d749fcb3",
   "metadata": {},
   "outputs": [
    {
     "data": {
      "text/plain": [
       "0.01"
      ]
     },
     "execution_count": 7,
     "metadata": {},
     "output_type": "execute_result"
    }
   ],
   "source": [
    "# create iclamp at the soma (matching the electrophysiologic injection):\n",
    "\n",
    "iclamp = h.IClamp(soma(0.5))\n",
    "iclamp.delay = 30\n",
    "iclamp.dur = 200\n",
    "iclamp.amp - -0.01"
   ]
  },
  {
   "cell_type": "code",
   "execution_count": 8,
   "id": "765369fe",
   "metadata": {},
   "outputs": [],
   "source": [
    "# set up some recording variables\n",
    "v = h.Vector().record(soma(0.5)._ref_v)  # membrane potential vector\n",
    "t = h.Vector().record(h._ref_t)  # time stamp vector"
   ]
  },
  {
   "cell_type": "code",
   "execution_count": 9,
   "id": "183e6b22",
   "metadata": {},
   "outputs": [
    {
     "data": {
      "text/plain": [
       "1.0"
      ]
     },
     "execution_count": 9,
     "metadata": {},
     "output_type": "execute_result"
    }
   ],
   "source": [
    "# set up the simulation\n",
    "h.load_file(\"stdrun.hoc\")"
   ]
  },
  {
   "cell_type": "code",
   "execution_count": 10,
   "id": "bdafafc2",
   "metadata": {},
   "outputs": [
    {
     "data": {
      "text/plain": [
       "1.0"
      ]
     },
     "execution_count": 10,
     "metadata": {},
     "output_type": "execute_result"
    }
   ],
   "source": [
    "# simulation parameters\n",
    "h.finitialize(-55)"
   ]
  },
  {
   "cell_type": "code",
   "execution_count": 11,
   "id": "821b6a3d",
   "metadata": {},
   "outputs": [
    {
     "data": {
      "text/plain": [
       "0.0"
      ]
     },
     "execution_count": 11,
     "metadata": {},
     "output_type": "execute_result"
    }
   ],
   "source": [
    "h.continuerun(260)"
   ]
  },
  {
   "cell_type": "markdown",
   "id": "c9640c38",
   "metadata": {},
   "source": [
    "from bokeh.io import output_notebook\n",
    "import bokeh.plotting as plt\n",
    "\n",
    "output_notebook()"
   ]
  },
  {
   "cell_type": "code",
   "execution_count": 12,
   "id": "cb9388f2",
   "metadata": {},
   "outputs": [],
   "source": [
    "%matplotlib inline"
   ]
  },
  {
   "cell_type": "code",
   "execution_count": 13,
   "id": "be25b014",
   "metadata": {},
   "outputs": [
    {
     "data": {
      "image/png": "[encoded data removed]",
      "text/plain": [
       "<Figure size 640x480 with 1 Axes>"
      ]
     },
     "metadata": {},
     "output_type": "display_data"
    }
   ],
   "source": [
    "plt.figure()\n",
    "plt.plot(t, v)\n",
    "plt.xlabel(\"t (ms)\")\n",
    "plt.ylabel(\"v (mV)\")\n",
    "plt.show()"
   ]
  },
  {
   "cell_type": "code",
   "execution_count": null,
   "id": "e5f12b82",
   "metadata": {},
   "outputs": [],
   "source": []
  },
  {
   "cell_type": "code",
   "execution_count": null,
   "id": "497c510e",
   "metadata": {},
   "outputs": [],
   "source": []
  }
 ],
 "metadata": {
  "kernelspec": {
   "display_name": "Python 3 (ipykernel)",
   "language": "python",
   "name": "python3"
  },
  "language_info": {
   "codemirror_mode": {
    "name": "ipython",
    "version": 3
   },
   "file_extension": ".py",
   "mimetype": "text/x-python",
   "name": "python",
   "nbconvert_exporter": "python",
   "pygments_lexer": "ipython3",
   "version": "3.11.3"
  }
 },
 "nbformat": 4,
 "nbformat_minor": 5
}
